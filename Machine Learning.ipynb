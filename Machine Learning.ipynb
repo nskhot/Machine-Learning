{
 "cells": [
  {
   "cell_type": "markdown",
   "id": "c181cb7d",
   "metadata": {},
   "source": [
    "# Machine Learning"
   ]
  },
  {
   "cell_type": "markdown",
   "id": "69f8e6f0",
   "metadata": {},
   "source": [
    "Learning is any process by which a system improves\n",
    "performance from experience.\n",
    "\n",
    "Machine Learning is the study of algorithms that\n",
    "\n",
    " 1.improve their performance P • at some task T • with experience E. A well-defined learning task is given by <P, T, E>.\n",
    "\n",
    "2.Optimize a performance criterion using example data or past experience.\n",
    "\n",
    "3.Role of Statistics: Inference from a sample\n",
    "\n",
    "4.Role of Computer science: Efficient algorithms to Solve the optimization problem\n",
    "\n",
    "5.Representing and evaluating the model for inference"
   ]
  },
  {
   "cell_type": "markdown",
   "id": "4f3f33f1",
   "metadata": {},
   "source": [
    "# When do we use machine learning?"
   ]
  },
  {
   "cell_type": "markdown",
   "id": "ee23cb8a",
   "metadata": {},
   "source": [
    "ML use when:\n",
    "\n",
    "            1.Human expertioes does not exist.(Navigating on mars)\n",
    "            \n",
    "            2.Humans can't explain their expertise.(Speech recgnization)\n",
    "            \n",
    "            3.Modeles must be customised.(Personlizsed medicine)\n",
    "            \n",
    "            4.models are based on huge amount of data.(genomics)\n",
    "            "
   ]
  },
  {
   "cell_type": "markdown",
   "id": "ad997df6",
   "metadata": {},
   "source": [
    "# Learning is'nt always useful:\n"
   ]
  },
  {
   "cell_type": "markdown",
   "id": "fb4871cd",
   "metadata": {},
   "source": [
    "There is no need to \"learn\" to calculate payroll."
   ]
  },
  {
   "cell_type": "raw",
   "id": "dc66a21d",
   "metadata": {},
   "source": [
    "Some more examples of task that are best solved by using  a learning algorithm"
   ]
  },
  {
   "cell_type": "markdown",
   "id": "0a71c151",
   "metadata": {},
   "source": [
    "# 1]Recognising pattern:"
   ]
  },
  {
   "cell_type": "markdown",
   "id": "3c051d91",
   "metadata": {},
   "source": [
    "----Facial identities or facial expresssions\n",
    "\n",
    "----Handwritten or spoken words\n",
    "\n",
    "----medical images"
   ]
  },
  {
   "cell_type": "markdown",
   "id": "7d978eae",
   "metadata": {},
   "source": [
    "# 2]Generating patterns"
   ]
  },
  {
   "cell_type": "markdown",
   "id": "439c59b3",
   "metadata": {},
   "source": [
    "----Generrating images or motion sequences"
   ]
  },
  {
   "cell_type": "markdown",
   "id": "8c8fe26c",
   "metadata": {},
   "source": [
    "# 3]Recognising anomalies"
   ]
  },
  {
   "cell_type": "markdown",
   "id": "6a572f0b",
   "metadata": {},
   "source": [
    "----Unusual credit card transictions\n",
    "\n",
    "----unusual patterns of sensors in a nuclear power plant"
   ]
  },
  {
   "cell_type": "markdown",
   "id": "5c770293",
   "metadata": {},
   "source": [
    "# 4]Predictions:"
   ]
  },
  {
   "cell_type": "markdown",
   "id": "772ae62d",
   "metadata": {},
   "source": [
    "----Future stock prices or currency exchange rates"
   ]
  },
  {
   "cell_type": "markdown",
   "id": "8007b5e4",
   "metadata": {},
   "source": [
    "Sample Applications\n",
    "Web search\n",
    "\n",
    "Computational biology\n",
    "\n",
    "Finance\n",
    "\n",
    "E-commerce\n",
    "\n",
    "Space exploration\n",
    "\n",
    "Robotics\n",
    "\n",
    "Information extraction\n",
    "\n",
    "Social networks\n",
    "\n",
    "Debugging software\n",
    "\n",
    "Types of Learning\n",
    "• Supervised (inductive) learning\n",
    "\n",
    "– Given: training data + desired outputs (labels)\n",
    "\n",
    "• Unsupervised learning\n",
    "\n",
    "– Given: training data (without desired outputs)\n",
    "\n",
    "• Semi-supervised learning\n",
    "\n",
    "– Given: training data + a few desired outputs\n",
    "\n",
    "• Reinforcement learning\n",
    "\n",
    "– Rewards from sequence of actions\n",
    "\n"
   ]
  },
  {
   "cell_type": "code",
   "execution_count": null,
   "id": "63dbb93a",
   "metadata": {},
   "outputs": [],
   "source": [
    "no_rooms, area ===> Price\n",
    "\n",
    "1   300   10000\n",
    "2   500   20000\n",
    "2.5 600   25000\n",
    "3   800   40000\n",
    "\n",
    "{no_rooms, area}===> independent features\n",
    "{Price} ====> Dependent Feature (Labels)\n",
    ".\n",
    ".\n",
    ".\n",
    "test\n",
    "\n",
    "5   1000   ????? ====>60000 \n",
    "\n",
    "Y is categorical---- yes or No, Male or Female\n",
    "\n",
    "Regression: Values Prediction (Obtain)\n",
    "\n",
    "Classification: do classification"
   ]
  },
  {
   "cell_type": "code",
   "execution_count": null,
   "id": "a88f2cc5",
   "metadata": {},
   "outputs": [],
   "source": []
  }
 ],
 "metadata": {
  "kernelspec": {
   "display_name": "Python 3 (ipykernel)",
   "language": "python",
   "name": "python3"
  },
  "language_info": {
   "codemirror_mode": {
    "name": "ipython",
    "version": 3
   },
   "file_extension": ".py",
   "mimetype": "text/x-python",
   "name": "python",
   "nbconvert_exporter": "python",
   "pygments_lexer": "ipython3",
   "version": "3.8.10"
  }
 },
 "nbformat": 4,
 "nbformat_minor": 5
}
